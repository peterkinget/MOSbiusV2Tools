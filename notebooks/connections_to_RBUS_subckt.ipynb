{
 "cells": [
  {
   "cell_type": "markdown",
   "id": "1416ddfd",
   "metadata": {},
   "source": [
    "# Generating RBUS subckt connections cell from connections.json file"
   ]
  },
  {
   "cell_type": "code",
   "execution_count": 268,
   "id": "ed444d25",
   "metadata": {},
   "outputs": [],
   "source": [
    "import json\n",
    "import os\n",
    "import sys\n"
   ]
  },
  {
   "cell_type": "code",
   "execution_count": 269,
   "id": "e0f1ed4a",
   "metadata": {},
   "outputs": [],
   "source": [
    "inputfilenames = { \"circuit_json\": \"../../examples/RO5_circuit.json\", \n",
    "                  \"pin_map\": \"pin_name_to_number.json\"}\n",
    "\n",
    "outputfilenames = { \"output_circuit\": \"generated_circuit.cir\"}"
   ]
  },
  {
   "cell_type": "code",
   "execution_count": 270,
   "id": "4966f139",
   "metadata": {},
   "outputs": [],
   "source": [
    "# Change the working directory to the script's directory\n",
    "working_dir = \"/Users/peterkinget/iCloudDrive/Work/MOSBIUS/MOSbiusTools/MOSbiusCADFlow/MOSbiusV2Tools/MOSbiusV2Tools/tmp\"\n",
    "os.chdir(working_dir)\n",
    "\n",
    "# Check if the script is being run from the correct directory\n",
    "for key, filename in inputfilenames.items():\n",
    "    if not os.path.exists(filename):\n",
    "        print(f\"Error: The script must be run from the directory containing {filename}.\")\n",
    "        sys.exit(1)"
   ]
  },
  {
   "cell_type": "code",
   "execution_count": 271,
   "id": "189fb369",
   "metadata": {},
   "outputs": [],
   "source": [
    "def generate_circuit_file(circuit_json_path, pin_map_path, output_circuit_path):\n",
    "    # Load the RO3 circuit JSON\n",
    "    with open(circuit_json_path, 'r') as circuit_file:\n",
    "        ro3_data = json.load(circuit_file)\n",
    "    \n",
    "    # Load the pin name to number mapping\n",
    "    with open(pin_map_path, 'r') as pin_map_file:\n",
    "        pin_name_to_number = json.load(pin_map_file)\n",
    "    \n",
    "    # Open the output circuit file for writing\n",
    "    with open(output_circuit_path, 'w') as circuit_file:\n",
    "        # Write the SPICE header\n",
    "        circuit_file.write(\"simulator lang=spice\\n\\n\")\n",
    "        subckt_header = '''.SUBCKT PK_RBUS_external_connections RBUS<1> RBUS<2> RBUS<3> RBUS<4> RBUS<5>\n",
    "+  RBUS<6> RBUS<7> RBUS<8> pin<1> pin<2> pin<3> pin<4> pin<5> pin<6> pin<7>\n",
    "+  pin<8> pin<9> pin<10> pin<11> pin<12> pin<13> pin<14> pin<15> pin<16> pin<17>\n",
    "+  pin<18> pin<19> pin<20> pin<21> pin<22> pin<23> pin<24> pin<25> pin<26>\n",
    "+  pin<27> pin<28> pin<29> pin<30> pin<31> pin<32> pin<33> pin<34> pin<35>\n",
    "+  pin<36> pin<37> pin<38> pin<39> pin<40> pin<41> pin<42> pin<43> pin<44>\n",
    "+  pin<45> pin<46> pin<47> pin<48> pin<49> pin<50> pin<51> pin<52> pin<53>\n",
    "+  pin<54> pin<55> pin<56> pin<57> pin<58> pin<59> pin<60> pin<61> pin<62>\n",
    "+  pin<63> pin<64> pin<65> pin<66> pin<67> pin<68> pin<69> pin<70> pin<71>\n",
    "+  pin<72> pin<73> pin<74> pin<75> pin<76> pin<77> pin<78> pin<79> pin<80>\n",
    "+  pin<81> pin<82> pin<83> pin<84> pin<85> pin<86> pin<87> pin<88> pin<89>\n",
    "+  pin<90> pin<91> pin<92> pin<93> pin<94> pin<95> pin<96> pin<97> pin<98>\n",
    "+  pin<99> pin<100>\n",
    "'''\n",
    "        circuit_file.write(subckt_header+\"\\n\")\n",
    "\n",
    "        # Iterate through each RBUS in the RO3 circuit JSON\n",
    "        for rbus, pin_names in ro3_data.items():\n",
    "            # Extract the RBUS number (e.g., RBUS<1> -> 1)\n",
    "            rbus_number = int(rbus.replace(\"RBUS\", \"\").strip(\"<>\"))\n",
    "            \n",
    "            # Iterate through the pin names connected to this RBUS\n",
    "            for pin_name in pin_names:\n",
    "                # Get the pin number from the mapping\n",
    "                pin_number = pin_name_to_number.get(pin_name)\n",
    "                if pin_number is not None:\n",
    "                    # Write a comment with the pin name and number and the RBUS number\n",
    "                    circuit_file.write(f\"* {pin_name} pin<{int(pin_number)}> RBUS<{rbus_number}>\\n\")\n",
    "                    # Write the short circuit connection to the file\n",
    "                    circuit_file.write(f\"Vshort_{rbus_number}_{int(pin_number)} RBUS<{rbus_number}> pin<{int(pin_number)}> 0\\n\")\n",
    "                else:\n",
    "                    print(f\"Warning: Pin name '{pin_name}' not found in pin_name_to_number.json\")\n",
    "        \n",
    "        # Write the SPICE footer\n",
    "        circuit_file.write(\".ENDS\\n\")"
   ]
  },
  {
   "cell_type": "code",
   "execution_count": 272,
   "id": "089a3682",
   "metadata": {},
   "outputs": [],
   "source": [
    "generate_circuit_file(inputfilenames[\"circuit_json\"], inputfilenames[\"pin_map\"], \n",
    "                      outputfilenames[\"output_circuit\"])\n"
   ]
  },
  {
   "cell_type": "code",
   "execution_count": null,
   "id": "036fab00",
   "metadata": {},
   "outputs": [],
   "source": []
  }
 ],
 "metadata": {
  "kernelspec": {
   "display_name": "Python 3 (ipykernel)",
   "language": "python",
   "name": "python3"
  }
 },
 "nbformat": 4,
 "nbformat_minor": 5
}
