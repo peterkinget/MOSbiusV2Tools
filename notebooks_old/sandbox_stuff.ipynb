{
 "cells": [
  {
   "cell_type": "code",
   "execution_count": 124,
   "id": "e6dcc1d1",
   "metadata": {},
   "outputs": [
    {
     "name": "stdout",
     "output_type": "stream",
     "text": [
      "NODE<1> NODE<2> NODE<3> NODE<4> NODE<5> NODE<6> NODE<7> NODE<8> NODE<9> NODE<10> NODE<11> NODE<12> NODE<13> NODE<14> NODE<15> NODE<16> NODE<17> NODE<18> NODE<19> NODE<20> "
     ]
    }
   ],
   "source": [
    "for i in range(1, 21):\n",
    "    print(\"NODE<\"+str(i)+\"> \", end=\"\")"
   ]
  },
  {
   "cell_type": "code",
   "execution_count": 202,
   "id": "72af22dd",
   "metadata": {},
   "outputs": [],
   "source": [
    "import json"
   ]
  },
  {
   "cell_type": "code",
   "execution_count": 205,
   "id": "b3f33906",
   "metadata": {},
   "outputs": [
    {
     "name": "stdout",
     "output_type": "stream",
     "text": [
      "{'DCC1_P_L': {'1': 1889, '2': 1890, '4': 1891, '8': 1892, '16': 1893}, 'DCC1_P_R': {'1': 1894, '2': 1895, '4': 1896, '8': 1897, '16': 1898}, 'OTA_N': {'1': 1899, '2': 1900, '4': 1901, '8': 1902, '16': 1903}, 'DCC2_P_L': {'1': 1904, '2': 1905, '4': 1906, '8': 1907, '16': 1908}, 'DCC2_P_R': {'1': 1909, '2': 1910, '4': 1911, '8': 1912, '16': 1913}, 'DCC1_N_L': {'1': 1914, '2': 1915, '4': 1916, '8': 1917, '16': 1918}, 'DCC1_N_R': {'1': 1919, '2': 1920, '4': 1921, '8': 1922, '16': 1923}, 'DCC3_P_L': {'1': 1924, '2': 1925, '4': 1926, '8': 1927, '16': 1928}, 'DCC3_P_R': {'1': 1929, '2': 1930, '4': 1931, '8': 1932, '16': 1933}, 'CC_N': {'1': 1934, '2': 1935, '4': 1936, '8': 1937, '16': 1938}, 'DCC2_N_L': {'1': 1939, '2': 1940, '4': 1941, '8': 1942, '16': 1943}, 'DCC2_N_R': {'1': 1944, '2': 1945, '4': 1946, '8': 1947, '16': 1948}, 'DCC3_N_L': {'1': 1949, '2': 1950, '4': 1951, '8': 1952, '16': 1953}, 'DCC3_N_R': {'1': 1954, '2': 1955, '4': 1956, '8': 1957, '16': 1958}, 'OTA_P': {'1': 1959, '2': 1960, '4': 1961, '8': 1962, '16': 1963}, 'DCC4_P_L': {'1': 1964, '2': 1965, '4': 1966, '8': 1967, '16': 1968}, 'DCC4_P_R': {'1': 1969, '2': 1970, '4': 1971, '8': 1972, '16': 1973}, 'DINV1_L': {'1': 1974, '2': 1975, '4': 1976, '8': 1977, '16': 1978}, 'DINV1_R': {'1': 1979, '2': 1980, '4': 1981, '8': 1982, '16': 1983}, 'DINV2_L': {'1': 1984, '2': 1985, '4': 1986, '8': 1987, '16': 1988}, 'DINV2_R': {'1': 1989, '2': 1990, '4': 1991, '8': 1992, '16': 1993}, 'CC_P': {'1': 1994, '2': 1995, '4': 1996, '8': 1997, '16': 1998}, 'DCC4_N_L': {'1': 1999, '2': 2000, '4': 2001, '8': 2002, '16': 2003}, 'DCC4_N_R': {'1': 2004, '2': 2005, '4': 2006, '8': 2007, '16': 2008}}\n"
     ]
    }
   ],
   "source": [
    "with open('device_name_to_sizing_registers.json', 'r') as file:\n",
    "    device_name_sizes = json.load(file)\n",
    "\n",
    "print(device_name_sizes)"
   ]
  },
  {
   "cell_type": "code",
   "execution_count": 207,
   "id": "0e5edda6",
   "metadata": {},
   "outputs": [
    {
     "name": "stdout",
     "output_type": "stream",
     "text": [
      "{'DCC1_P_L': [], 'DCC1_P_R': [], 'OTA_N': [], 'DCC2_P_L': [], 'DCC2_P_R': [], 'DCC1_N_L': [], 'DCC1_N_R': [], 'DCC3_P_L': [], 'DCC3_P_R': [], 'CC_N': [], 'DCC2_N_L': [], 'DCC2_N_R': [], 'DCC3_N_L': [], 'DCC3_N_R': [], 'OTA_P': [], 'DCC4_P_L': [], 'DCC4_P_R': [], 'DINV1_L': [], 'DINV1_R': [], 'DINV2_L': [], 'DINV2_R': [], 'CC_P': [], 'DCC4_N_L': [], 'DCC4_N_R': []}\n"
     ]
    }
   ],
   "source": [
    "empty_device_name_sizes = {key: [] for key in device_name_sizes.keys()}\n",
    "print(empty_device_name_sizes)"
   ]
  },
  {
   "cell_type": "code",
   "execution_count": null,
   "id": "22b3a6f6",
   "metadata": {},
   "outputs": [],
   "source": [
    "with open('empty_device_name_sizes.json', 'w') as file:\n",
    "    json.dump(empty_device_name_sizes, file, indent=4, sort_keys=True)\n",
    "    "
   ]
  },
  {
   "cell_type": "markdown",
   "id": "ad423876",
   "metadata": {},
   "source": [
    "## Generating the Switch Matrix Register Map\n",
    "\n",
    "- There are 1888 switch matrix registers\n",
    "- There are 8 RBUSes and 6 SWBUSes\n",
    "- There are 92 pins and 4 IPINS\n",
    "\n"
   ]
  },
  {
   "cell_type": "code",
   "execution_count": 5,
   "id": "08e84958",
   "metadata": {},
   "outputs": [
    {
     "data": {
      "text/plain": [
       "1888"
      ]
     },
     "execution_count": 5,
     "metadata": {},
     "output_type": "execute_result"
    }
   ],
   "source": [
    "92*8 + 96*2*6\n"
   ]
  },
  {
   "cell_type": "code",
   "execution_count": null,
   "id": "0e20ac11",
   "metadata": {},
   "outputs": [],
   "source": []
  }
 ],
 "metadata": {
  "kernelspec": {
   "display_name": "Python 3 (ipykernel)",
   "language": "python",
   "name": "python3"
  },
  "language_info": {
   "codemirror_mode": {
    "name": "ipython",
    "version": 3
   },
   "file_extension": ".py",
   "mimetype": "text/x-python",
   "name": "python",
   "nbconvert_exporter": "python",
   "pygments_lexer": "ipython3",
   "version": "3.12.9"
  }
 },
 "nbformat": 4,
 "nbformat_minor": 5
}
