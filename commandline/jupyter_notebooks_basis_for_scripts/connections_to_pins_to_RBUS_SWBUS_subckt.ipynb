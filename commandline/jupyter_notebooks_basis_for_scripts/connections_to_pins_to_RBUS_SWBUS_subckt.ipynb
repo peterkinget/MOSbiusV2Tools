{
 "cells": [
  {
   "cell_type": "markdown",
   "id": "460726c4",
   "metadata": {},
   "source": [
    "# Generating a Subckt to the Chip Pins to \"PCB\" RBUS and SWBUS Nodes in the Schematic"
   ]
  },
  {
   "cell_type": "markdown",
   "id": "4b1a726a",
   "metadata": {},
   "source": []
  },
  {
   "cell_type": "code",
   "execution_count": 4,
   "id": "d416338d",
   "metadata": {},
   "outputs": [],
   "source": [
    "import csv\n",
    "import json\n",
    "import os\n",
    "from datetime import datetime"
   ]
  },
  {
   "cell_type": "code",
   "execution_count": 5,
   "id": "8ffa61dc",
   "metadata": {},
   "outputs": [],
   "source": [
    "# Change the working directory to the script's directory\n",
    "\n",
    "working_dir = \"/Users/peterkinget/iCloudDrive/Work/MOSBIUS/MOSbiusTools/MOSbiusCADFlow/MOSbiusV2Tools/MOSbiusV2Tools/tmp/\"\n",
    "os.chdir(working_dir)\n",
    "\n",
    "# # Define the file path\n",
    "# file_path = \"MOSbiusV2_sw_matrix_register_map_20250503.csv\"\n",
    "\n",
    "# # Check if the script is being run from the correct directory\n",
    "# if not os.path.exists(file_path):\n",
    "#     print(f\"Error: The script must be run from the directory containing {filename}.\")\n",
    "#     sys.exit(1) "
   ]
  },
  {
   "cell_type": "markdown",
   "id": "c106e09e",
   "metadata": {},
   "source": [
    "## RBUS + SBUS direct"
   ]
  },
  {
   "cell_type": "code",
   "execution_count": 35,
   "id": "62a6d6bf",
   "metadata": {},
   "outputs": [],
   "source": [
    "def generate_circuit_file(circuit_file, pin_mapping_file, template_file, output_file):\n",
    "    \"\"\"\n",
    "    Generates a SPICE subcircuit file based on the circuit JSON file and pin mapping.\n",
    "\n",
    "    Args:\n",
    "        circuit_file (str): Path to the circuit JSON file (e.g., RO3_circuit.json).\n",
    "        pin_mapping_file (str): Path to the pin_name_to_number.json file.\n",
    "        template_file (str): Path to the SPICE template file.\n",
    "        output_file (str): Path to the output SPICE file.\n",
    "    \"\"\"\n",
    "    # Load the circuit JSON file\n",
    "    with open(circuit_file, 'r') as f:\n",
    "        circuit_data = json.load(f)\n",
    "\n",
    "    # Load the pin mapping JSON file\n",
    "    with open(pin_mapping_file, 'r') as f:\n",
    "        pin_mapping = json.load(f)\n",
    "\n",
    "    # Read the SPICE template\n",
    "    with open(template_file, 'r') as f:\n",
    "        spice_template = f.read()\n",
    "\n",
    "    # Start building the SPICE subcircuit\n",
    "    spice_subcircuit = f\"* File created on: {datetime.now().strftime('%Y-%m-%d %H:%M:%S')}\\n\"\n",
    "    spice_subcircuit += f\"* From {circuit_file}\\n\" + spice_template + \"\\n\"\n",
    "\n",
    "    # Iterate over each BUS in the circuit data\n",
    "    for bus, pins in circuit_data.items():\n",
    "        if bus[0:4] == 'SBUS':\n",
    "            continue\n",
    "        # Replace RBUS1 with RBUS<1>, RBUS2 with RBUS<2>, etc.\n",
    "        bus_with_brackets = bus.replace(\"RBUS\", \"RBUS<\").replace(\"SWBUS\", \"SWBUS<\") + \">\"\n",
    "\n",
    "        # Select the first pin from the list of connected pins\n",
    "        selected_pin = pins[0]\n",
    "\n",
    "        # Get the pin number from the pin mapping\n",
    "        pin_number = int(pin_mapping[selected_pin])\n",
    "\n",
    "        # Add a zero-volt voltage source for the connection\n",
    "        spice_subcircuit += f\"V{bus}_to_pin{pin_number} {bus_with_brackets} pin<{pin_number}> 0\\n\"\n",
    "\n",
    "        # Add a comment indicating the connection\n",
    "        spice_subcircuit += f\"* {bus} connected to {selected_pin} (pin<{pin_number}>)\\n\"\n",
    "\n",
    "    for sbus in range(1,7):\n",
    "        if sbus == 6:\n",
    "            bus = f\"DATA_SBUS6\"\n",
    "        else:\n",
    "            bus = f\"SBUS{sbus}\"\n",
    "        bus_with_brackets = f\"SWBUS<{sbus}>\"\n",
    "        pin_number = int(pin_mapping[bus])\n",
    "        # Add a zero-volt voltage source for the connection\n",
    "        spice_subcircuit += f\"V{bus}_to_pin{pin_number} {bus_with_brackets} pin<{pin_number}> 0\\n\"\n",
    "\n",
    "    # Close the subcircuit in spice\n",
    "    spice_subcircuit += \".ENDS \\n\"\n",
    "    \n",
    "    # Write the generated SPICE subcircuit to the output file\n",
    "    with open(output_file, 'w') as f:\n",
    "        f.write(spice_subcircuit)"
   ]
  },
  {
   "cell_type": "code",
   "execution_count": 36,
   "id": "6927ee49",
   "metadata": {},
   "outputs": [],
   "source": [
    "# Example usage\n",
    "generate_circuit_file(\n",
    "    circuit_file=\"../../examples/INV_string_clocked_RBUS_SBUS.json\",\n",
    "    pin_mapping_file=\"pin_name_to_number.json\",\n",
    "    template_file=\"PK_pins_to_RBUS_SWBUS_template.cir\",\n",
    "    output_file=\"generated_pins_to_RBUS_SBUS_2.cir\"\n",
    ")\n"
   ]
  },
  {
   "cell_type": "markdown",
   "id": "4379bbcf",
   "metadata": {},
   "source": [
    "## RBUS and SBUS --> not necessary ... direct pins for SBUS available!!"
   ]
  },
  {
   "cell_type": "code",
   "execution_count": 27,
   "id": "c0e947fe",
   "metadata": {},
   "outputs": [],
   "source": [
    "def generate_circuit_file_2(circuit_file, pin_mapping_file, template_file, output_file):\n",
    "    \"\"\"\n",
    "    Generates a SPICE subcircuit file based on the circuit JSON file and pin mapping.\n",
    "\n",
    "    Args:\n",
    "        circuit_file (str): Path to the circuit JSON file (e.g., RO3_circuit.json).\n",
    "        pin_mapping_file (str): Path to the pin_name_to_number.json file.\n",
    "        template_file (str): Path to the SPICE template file.\n",
    "        output_file (str): Path to the output SPICE file.\n",
    "    \"\"\"\n",
    "    # Load the circuit JSON file\n",
    "    with open(circuit_file, 'r') as f:\n",
    "        circuit_data = json.load(f)\n",
    "\n",
    "    # Load the pin mapping JSON file\n",
    "    with open(pin_mapping_file, 'r') as f:\n",
    "        pin_mapping = json.load(f)\n",
    "\n",
    "    # Read the SPICE template\n",
    "    with open(template_file, 'r') as f:\n",
    "        spice_template = f.read()\n",
    "\n",
    "    # Start building the SPICE subcircuit\n",
    "    spice_subcircuit = f\"* File created on: {datetime.now().strftime('%Y-%m-%d %H:%M:%S')}\\n\"\n",
    "    spice_subcircuit += f\"* From {circuit_file}\\n\" + spice_template + \"\\n\"\n",
    "\n",
    "    # Iterate over each BUS in the circuit data\n",
    "    for bus, pins in circuit_data.items():\n",
    "        # Replace RBUS1 with RBUS<1>, RBUS2 with RBUS<2>, etc.\n",
    "        bus_with_brackets = bus.replace(\"RBUS\", \"RBUS<\").replace(\"SBUS\", \"SWBUS<\") + \">\"\n",
    "\n",
    "        # Select the first pin from the list of connected pins\n",
    "        if bus[0:4] == 'RBUS':\n",
    "            selected_pin = pins[0]\n",
    "        elif bus[0:4] == 'SBUS':\n",
    "            selected_pin = pins[0]['terminal']\n",
    "        # Get the pin number from the pin mapping\n",
    "        pin_number = int(pin_mapping[selected_pin])\n",
    "\n",
    "        # Add a comment indicating the connection\n",
    "        spice_subcircuit += f\"* {bus} connected to {selected_pin} (pin<{pin_number}>)\\n\"\n",
    "\n",
    "        # Add a zero-volt voltage source for the connection\n",
    "        spice_subcircuit += f\"V{bus}_to_pin{pin_number} {bus_with_brackets} pin<{pin_number}> 0\\n\"\n",
    "\n",
    "        \n",
    "    # Close the subcircuit in spice\n",
    "    spice_subcircuit += \".ENDS \\n\"\n",
    "    \n",
    "    # Write the generated SPICE subcircuit to the output file\n",
    "    with open(output_file, 'w') as f:\n",
    "        f.write(spice_subcircuit)"
   ]
  },
  {
   "cell_type": "code",
   "execution_count": 30,
   "id": "b21d3762",
   "metadata": {},
   "outputs": [],
   "source": [
    "generate_circuit_file_2(\n",
    "    circuit_file=\"../../examples/INV_string_11_CC_RBUS_SBUS.json\",\n",
    "    pin_mapping_file=\"pin_name_to_number.json\",\n",
    "    template_file=\"PK_pins_to_RBUS_SWBUS_template.cir\",\n",
    "    output_file=\"generated_pins_to_RBUS_SBUS.cir\"\n",
    ")\n"
   ]
  },
  {
   "cell_type": "code",
   "execution_count": null,
   "id": "c5c1fb8d",
   "metadata": {},
   "outputs": [],
   "source": []
  }
 ],
 "metadata": {
  "kernelspec": {
   "display_name": "Python 3 (ipykernel)",
   "language": "python",
   "name": "python3"
  },
  "language_info": {
   "codemirror_mode": {
    "name": "ipython",
    "version": 3
   },
   "file_extension": ".py",
   "mimetype": "text/x-python",
   "name": "python",
   "nbconvert_exporter": "python",
   "pygments_lexer": "ipython3",
   "version": "3.12.9"
  }
 },
 "nbformat": 4,
 "nbformat_minor": 5
}
