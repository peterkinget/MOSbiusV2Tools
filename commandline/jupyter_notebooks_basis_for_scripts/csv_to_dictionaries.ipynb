{
 "cells": [
  {
   "cell_type": "markdown",
   "id": "a02f827f",
   "metadata": {},
   "source": [
    "# Jupyter Notebook to Convert the Spreadsheet CSV in Mapping dictionaries"
   ]
  },
  {
   "cell_type": "code",
   "execution_count": 1,
   "id": "18809dfb",
   "metadata": {},
   "outputs": [
    {
     "ename": "AttributeError",
     "evalue": "module 'numpy' has no attribute '__version__'",
     "output_type": "error",
     "traceback": [
      "\u001b[0;31m---------------------------------------------------------------------------\u001b[0m",
      "\u001b[0;31mAttributeError\u001b[0m                            Traceback (most recent call last)",
      "Cell \u001b[0;32mIn[1], line 2\u001b[0m\n\u001b[1;32m      1\u001b[0m \u001b[38;5;28;01mimport\u001b[39;00m \u001b[38;5;21;01mnumpy\u001b[39;00m \u001b[38;5;28;01mas\u001b[39;00m \u001b[38;5;21;01mnp\u001b[39;00m\n\u001b[0;32m----> 2\u001b[0m \u001b[38;5;28;01mimport\u001b[39;00m \u001b[38;5;21;01mpandas\u001b[39;00m \u001b[38;5;28;01mas\u001b[39;00m \u001b[38;5;21;01mpd\u001b[39;00m\n\u001b[1;32m      3\u001b[0m \u001b[38;5;28;01mimport\u001b[39;00m \u001b[38;5;21;01mos\u001b[39;00m\n\u001b[1;32m      4\u001b[0m \u001b[38;5;28;01mimport\u001b[39;00m \u001b[38;5;21;01msys\u001b[39;00m\n",
      "File \u001b[0;32m/opt/homebrew/lib/python3.11/site-packages/pandas/__init__.py:23\u001b[0m\n\u001b[1;32m     19\u001b[0m \u001b[38;5;28;01mdel\u001b[39;00m _hard_dependencies, _dependency, _missing_dependencies\n\u001b[1;32m     21\u001b[0m \u001b[38;5;28;01mtry\u001b[39;00m:\n\u001b[1;32m     22\u001b[0m     \u001b[38;5;66;03m# numpy compat\u001b[39;00m\n\u001b[0;32m---> 23\u001b[0m     \u001b[38;5;28;01mfrom\u001b[39;00m \u001b[38;5;21;01mpandas\u001b[39;00m\u001b[38;5;21;01m.\u001b[39;00m\u001b[38;5;21;01mcompat\u001b[39;00m \u001b[38;5;28;01mimport\u001b[39;00m (\n\u001b[1;32m     24\u001b[0m         is_numpy_dev \u001b[38;5;28;01mas\u001b[39;00m _is_numpy_dev,  \u001b[38;5;66;03m# pyright: ignore[reportUnusedImport] # noqa: F401,E501\u001b[39;00m\n\u001b[1;32m     25\u001b[0m     )\n\u001b[1;32m     26\u001b[0m \u001b[38;5;28;01mexcept\u001b[39;00m \u001b[38;5;167;01mImportError\u001b[39;00m \u001b[38;5;28;01mas\u001b[39;00m _err:  \u001b[38;5;66;03m# pragma: no cover\u001b[39;00m\n\u001b[1;32m     27\u001b[0m     _module \u001b[38;5;241m=\u001b[39m _err\u001b[38;5;241m.\u001b[39mname\n",
      "File \u001b[0;32m/opt/homebrew/lib/python3.11/site-packages/pandas/compat/__init__.py:26\u001b[0m\n\u001b[1;32m     17\u001b[0m \u001b[38;5;28;01mfrom\u001b[39;00m \u001b[38;5;21;01mpandas\u001b[39;00m\u001b[38;5;21;01m.\u001b[39;00m\u001b[38;5;21;01mcompat\u001b[39;00m\u001b[38;5;21;01m.\u001b[39;00m\u001b[38;5;21;01m_constants\u001b[39;00m \u001b[38;5;28;01mimport\u001b[39;00m (\n\u001b[1;32m     18\u001b[0m     IS64,\n\u001b[1;32m     19\u001b[0m     ISMUSL,\n\u001b[0;32m   (...)\u001b[0m\n\u001b[1;32m     23\u001b[0m     PYPY,\n\u001b[1;32m     24\u001b[0m )\n\u001b[1;32m     25\u001b[0m \u001b[38;5;28;01mimport\u001b[39;00m \u001b[38;5;21;01mpandas\u001b[39;00m\u001b[38;5;21;01m.\u001b[39;00m\u001b[38;5;21;01mcompat\u001b[39;00m\u001b[38;5;21;01m.\u001b[39;00m\u001b[38;5;21;01mcompressors\u001b[39;00m\n\u001b[0;32m---> 26\u001b[0m \u001b[38;5;28;01mfrom\u001b[39;00m \u001b[38;5;21;01mpandas\u001b[39;00m\u001b[38;5;21;01m.\u001b[39;00m\u001b[38;5;21;01mcompat\u001b[39;00m\u001b[38;5;21;01m.\u001b[39;00m\u001b[38;5;21;01mnumpy\u001b[39;00m \u001b[38;5;28;01mimport\u001b[39;00m is_numpy_dev\n\u001b[1;32m     27\u001b[0m \u001b[38;5;28;01mfrom\u001b[39;00m \u001b[38;5;21;01mpandas\u001b[39;00m\u001b[38;5;21;01m.\u001b[39;00m\u001b[38;5;21;01mcompat\u001b[39;00m\u001b[38;5;21;01m.\u001b[39;00m\u001b[38;5;21;01mpyarrow\u001b[39;00m \u001b[38;5;28;01mimport\u001b[39;00m (\n\u001b[1;32m     28\u001b[0m     pa_version_under7p0,\n\u001b[1;32m     29\u001b[0m     pa_version_under8p0,\n\u001b[0;32m   (...)\u001b[0m\n\u001b[1;32m     33\u001b[0m     pa_version_under14p0,\n\u001b[1;32m     34\u001b[0m )\n\u001b[1;32m     36\u001b[0m \u001b[38;5;28;01mif\u001b[39;00m TYPE_CHECKING:\n",
      "File \u001b[0;32m/opt/homebrew/lib/python3.11/site-packages/pandas/compat/numpy/__init__.py:7\u001b[0m\n\u001b[1;32m      4\u001b[0m \u001b[38;5;28;01mfrom\u001b[39;00m \u001b[38;5;21;01mpandas\u001b[39;00m\u001b[38;5;21;01m.\u001b[39;00m\u001b[38;5;21;01mutil\u001b[39;00m\u001b[38;5;21;01m.\u001b[39;00m\u001b[38;5;21;01mversion\u001b[39;00m \u001b[38;5;28;01mimport\u001b[39;00m Version\n\u001b[1;32m      6\u001b[0m \u001b[38;5;66;03m# numpy versioning\u001b[39;00m\n\u001b[0;32m----> 7\u001b[0m _np_version \u001b[38;5;241m=\u001b[39m \u001b[43mnp\u001b[49m\u001b[38;5;241;43m.\u001b[39;49m\u001b[43m__version__\u001b[49m\n\u001b[1;32m      8\u001b[0m _nlv \u001b[38;5;241m=\u001b[39m Version(_np_version)\n\u001b[1;32m      9\u001b[0m np_version_gte1p24 \u001b[38;5;241m=\u001b[39m _nlv \u001b[38;5;241m>\u001b[39m\u001b[38;5;241m=\u001b[39m Version(\u001b[38;5;124m\"\u001b[39m\u001b[38;5;124m1.24\u001b[39m\u001b[38;5;124m\"\u001b[39m)\n",
      "\u001b[0;31mAttributeError\u001b[0m: module 'numpy' has no attribute '__version__'"
     ]
    }
   ],
   "source": [
    "import numpy as np\n",
    "import pandas as pd\n",
    "import os\n",
    "import sys"
   ]
  },
  {
   "cell_type": "code",
   "execution_count": null,
   "id": "87f5a196",
   "metadata": {},
   "outputs": [],
   "source": [
    "# Change the working directory to the script's directory\n",
    "\n",
    "working_dir = \"/Users/peterkinget/iCloudDrive/Work/MOSBIUS/MOSbiusTools/MOSbiusCADFlow/MOSbiusV2Tools/MOSbiusV2Tools/tmp/csv_to_dict\"\n",
    "os.chdir(working_dir)\n",
    "\n",
    "# Define the file path\n",
    "filename = \"MOSbiusV2_pin_map - Pin List_20250501.csv\"\n",
    "\n",
    "# Check if the script is being run from the correct directory\n",
    "if not os.path.exists(filename):\n",
    "    print(f\"Error: The script must be run from the directory containing {filename}.\")\n",
    "    sys.exit(1) "
   ]
  },
  {
   "cell_type": "code",
   "execution_count": null,
   "id": "213dceb6",
   "metadata": {},
   "outputs": [],
   "source": [
    "# Read the CSV file\n",
    "df_orig = pd.read_csv(filename, skiprows=13)  # Skip the first 10 rows of metadata"
   ]
  },
  {
   "cell_type": "code",
   "execution_count": null,
   "id": "a8df559b",
   "metadata": {},
   "outputs": [],
   "source": [
    "columns = df_orig.columns.tolist()   # Print the column names\n",
    "columns"
   ]
  },
  {
   "cell_type": "code",
   "execution_count": null,
   "id": "29f3ee74",
   "metadata": {},
   "outputs": [],
   "source": [
    "save_columns = ['Package Pin no.', 'Switch Matrix Pin No. ', 'Pin Name', ]\n",
    "# Filter the DataFrame to include only the specified columns\n",
    "df = df_orig[save_columns]\n",
    "# Rename the columns\n",
    "df.rename(columns={\n",
    "    'Package Pin no.': 'pin_number',\n",
    "    'Switch Matrix Pin No. ': 'sw_matrix_pin_number',\n",
    "    'Pin Name': 'pin_name'\n",
    "}, inplace=True)    \n",
    "# Remove the empty rows\n",
    "df = df.dropna(how='all')"
   ]
  },
  {
   "cell_type": "code",
   "execution_count": null,
   "id": "1ed00cb2",
   "metadata": {},
   "outputs": [],
   "source": [
    "print(df)\n",
    "print(df.columns)"
   ]
  },
  {
   "cell_type": "code",
   "execution_count": null,
   "id": "dd511420",
   "metadata": {},
   "outputs": [],
   "source": [
    "# Make a dictionary from the DataFrame that maps Pin Name to Pin No.\n",
    "pin_map = {}\n",
    "for index, row in df.iterrows():\n",
    "    pin_name = row['pin_name']\n",
    "    pin_number = row['pin_number']\n",
    "    if pd.notna(pin_name) and pd.notna(pin_number):\n",
    "        pin_map[pin_name] = pin_number\n",
    "pin_name_to_number = pin_map\n",
    "\n",
    "# Make a dictionary from the Dataframe that maps Pin numbers to pin names\n",
    "pin_number_to_name = {}\n",
    "for index, row in df.iterrows():\n",
    "    pin_number = row['pin_number']\n",
    "    pin_name = row['pin_name']\n",
    "    if pd.notna(pin_number) and pd.notna(pin_name):\n",
    "        pin_number_to_name[pin_number] = pin_name\n",
    "\n",
    "# Make a dictionary from the Dataframe that maps the pin name to the switch matrix pin number\n",
    "sw_matrix_pin_map = {}\n",
    "for index, row in df.iterrows():\n",
    "    pin_name = row['pin_name']\n",
    "    sw_matrix_pin_number = row['sw_matrix_pin_number']\n",
    "    if pd.notna(pin_name) and pd.notna(sw_matrix_pin_number):\n",
    "        sw_matrix_pin_map[pin_name] = sw_matrix_pin_number\n",
    "\n",
    "pin_name_to_sw_matrix_pin_number = sw_matrix_pin_map"
   ]
  },
  {
   "cell_type": "code",
   "execution_count": null,
   "id": "f5cd4fa5",
   "metadata": {},
   "outputs": [],
   "source": [
    "# Save the dictionaries to JSON files\n",
    "import json \n",
    "with open('pin_name_to_number.json', 'w') as f:\n",
    "    json.dump(pin_name_to_number, f, indent=4)\n",
    "with open('pin_number_to_name.json', 'w') as f:\n",
    "    json.dump(pin_number_to_name, f, indent=4)  \n",
    "with open('pin_name_to_sw_matrix_pin_number.json', 'w') as f:   \n",
    "    json.dump(pin_name_to_sw_matrix_pin_number, f, indent=4)\n",
    "# Save the DataFrame to a new CSV file\n",
    "df.to_csv('MOSbiusV2_pin_map - Pin List_cleaned.csv', index=False)"
   ]
  },
  {
   "cell_type": "code",
   "execution_count": null,
   "id": "048b1540",
   "metadata": {},
   "outputs": [],
   "source": [
    "pin_name_to_number "
   ]
  },
  {
   "cell_type": "code",
   "execution_count": null,
   "id": "4783eeef",
   "metadata": {},
   "outputs": [],
   "source": [
    "pin_number_to_name"
   ]
  },
  {
   "cell_type": "code",
   "execution_count": null,
   "id": "e6718a9c",
   "metadata": {},
   "outputs": [],
   "source": [
    "pin_name_to_sw_matrix_pin_number"
   ]
  },
  {
   "cell_type": "code",
   "execution_count": null,
   "id": "99e01d6f",
   "metadata": {},
   "outputs": [],
   "source": [
    "import pandas as pd\n",
    "\n",
    "def group_register_bits(csv_file_path):\n",
    "    \"\"\"\n",
    "    Reads a CSV file and groups register bits into sets of 5 bits for each device.\n",
    "\n",
    "    Args:\n",
    "        csv_file_path (str): Path to the CSV file.\n",
    "\n",
    "    Returns:\n",
    "        dict: A dictionary where keys are device names and values are dictionaries\n",
    "              mapping bit labels (1, 2, 4, 8, 16) to register numbers.\n",
    "    \"\"\"\n",
    "    # Read the CSV file into a DataFrame\n",
    "    df = pd.read_csv(csv_file_path)\n",
    "\n",
    "    # Initialize a dictionary to store grouped registers\n",
    "    grouped_registers = {}\n",
    "\n",
    "    # Iterate through each row in the DataFrame\n",
    "    for _, row in df.iterrows():\n",
    "        reg_name = row['Reg Names']\n",
    "        reg_number = row['Reg Numbers']\n",
    "\n",
    "        # Extract the base device name (e.g., \"DCC1_P_L\" from \"DCC1_P_L_1\")\n",
    "        base_name = \"_\".join(reg_name.split(\"_\")[:-1])\n",
    "\n",
    "        # Extract the bit label (e.g., \"1\" from \"DCC1_P_L_1\")\n",
    "        bit_label = int(reg_name.split(\"_\")[-1])\n",
    "\n",
    "        # Add the register to the corresponding device group\n",
    "        if base_name not in grouped_registers:\n",
    "            grouped_registers[base_name] = {}\n",
    "        grouped_registers[base_name][bit_label] = reg_number\n",
    "\n",
    "    # Ensure each group is sorted by the bit label\n",
    "    for base_name in grouped_registers:\n",
    "        grouped_registers[base_name] = dict(sorted(grouped_registers[base_name].items()))\n",
    "\n",
    "    return grouped_registers\n",
    "\n",
    "# Example usage\n",
    "csv_file_path = \"MOSbiusV2_register_map_20250503.csv\"\n",
    "grouped_registers = group_register_bits(csv_file_path)\n",
    "\n",
    "# Print the grouped registers\n",
    "for device, bits in grouped_registers.items():\n",
    "    print(f\"{device}: {bits}\")\n",
    "    "
   ]
  },
  {
   "cell_type": "code",
   "execution_count": null,
   "id": "43ff1bb4",
   "metadata": {},
   "outputs": [],
   "source": [
    "# Save the dictionaries to JSON files\n",
    "\n",
    "with open('device_name_to_sizing_registers.json', 'w') as f:\n",
    "    json.dump(grouped_registers, f, indent=4)\n"
   ]
  },
  {
   "cell_type": "markdown",
   "id": "d01cf84c",
   "metadata": {},
   "source": [
    "## Generating Switch Matrix Register Map"
   ]
  },
  {
   "cell_type": "code",
   "execution_count": null,
   "id": "2838fb8f",
   "metadata": {},
   "outputs": [],
   "source": [
    "import csv\n",
    "import json\n",
    "import os"
   ]
  },
  {
   "cell_type": "code",
   "execution_count": null,
   "id": "d707bebd",
   "metadata": {},
   "outputs": [],
   "source": [
    "# Change the working directory to the script's directory\n",
    "\n",
    "working_dir = \"/Users/peterkinget/iCloudDrive/Work/MOSBIUS/MOSbiusTools/MOSbiusCADFlow/MOSbiusV2Tools/MOSbiusV2Tools/tmp/csv_to_dict\"\n",
    "os.chdir(working_dir)\n",
    "\n",
    "# Define the file path\n",
    "file_path = \"MOSbiusV2_sw_matrix_register_map_20250503.csv\"\n",
    "\n",
    "# Check if the script is being run from the correct directory\n",
    "if not os.path.exists(file_path):\n",
    "    print(f\"Error: The script must be run from the directory containing {filename}.\")\n",
    "    sys.exit(1) "
   ]
  },
  {
   "cell_type": "code",
   "execution_count": null,
   "id": "c077cee7",
   "metadata": {},
   "outputs": [],
   "source": [
    "def parse_csv_to_switch_matrix_register_map(file_path):\n",
    "    \"\"\"\n",
    "    Parses the CSV file into a nested dictionary for easy lookup by pin/internal_pin and bus type.\n",
    "    \n",
    "    Args:\n",
    "        file_path (str): Path to the CSV file.\n",
    "    \n",
    "    Returns:\n",
    "        dict: A nested dictionary where keys are pin/internal_pin names, and values are dictionaries\n",
    "              mapping bus types (SBUS or RBUS) and columns (a, b, or RBUS index) to register numbers.\n",
    "    \"\"\"\n",
    "    register_map = {}\n",
    "\n",
    "    with open(file_path, mode='r') as csv_file:\n",
    "        csv_reader = csv.reader(csv_file)\n",
    "        headers = next(csv_reader)  # Read the header row\n",
    "        headers = next(csv_reader)  # Read the header row\n",
    "        bus_headers = headers[2:-1]  # Extract bus headers (SBUS and RBUS columns)\n",
    "\n",
    "        for row in csv_reader:\n",
    "            if not any(row):  # Skip empty rows\n",
    "                continue\n",
    "\n",
    "            pin_type = row[0].strip()  # e.g., \"swmatrix_pin\" or \"swmatrix_int_pin\"\n",
    "            pin_name = row[1].strip()  # e.g., \"1\", \"A\", etc.\n",
    "\n",
    "            if pin_type and pin_name:\n",
    "                pin_key = f\"{pin_type}_{pin_name}\"\n",
    "                pin_key = pin_name\n",
    "                register_map[pin_key] = {}\n",
    "\n",
    "                for i, bus_header in enumerate(bus_headers):\n",
    "                    if bus_header:  # Skip empty headers\n",
    "                        # bus_type, column = bus_header[:-1], bus_header[-1]  # e.g., \"SBUS1a\" -> \"SBUS1\", \"a\"\n",
    "                        register_value = row[i + 2].strip()  # Offset by 2 to match column index\n",
    "                        if register_value:  # Only add non-empty register values\n",
    "                            register_map[pin_key][bus_header] = register_value\n",
    "    return register_map\n"
   ]
  },
  {
   "cell_type": "code",
   "execution_count": null,
   "id": "1403377a",
   "metadata": {},
   "outputs": [],
   "source": [
    "switch_matrix_register_map = parse_csv_to_switch_matrix_register_map(file_path)\n",
    "\n",
    "# Query example\n",
    "pin = \"A\"\n",
    "bus = \"RBUS1\"\n",
    "print(f\"Register for {pin} on {bus} is {switch_matrix_register_map[pin][bus]}\")"
   ]
  },
  {
   "cell_type": "code",
   "execution_count": null,
   "id": "15fc48c6",
   "metadata": {},
   "outputs": [],
   "source": [
    "# Save the dictionaries to JSON files\n",
    "\n",
    "with open('switch_matrix_register_map.json', 'w') as f:\n",
    "    json.dump(switch_matrix_register_map, f, indent=4)\n"
   ]
  },
  {
   "cell_type": "code",
   "execution_count": null,
   "id": "2950de08",
   "metadata": {},
   "outputs": [],
   "source": [
    "%pwd"
   ]
  },
  {
   "cell_type": "code",
   "execution_count": null,
   "id": "1213a0ee",
   "metadata": {},
   "outputs": [],
   "source": []
  }
 ],
 "metadata": {
  "kernelspec": {
   "display_name": "Python 3 (ipykernel)",
   "language": "python",
   "name": "python3"
  },
  "language_info": {
   "codemirror_mode": {
    "name": "ipython",
    "version": 3
   },
   "file_extension": ".py",
   "mimetype": "text/x-python",
   "name": "python",
   "nbconvert_exporter": "python",
   "pygments_lexer": "ipython3",
   "version": "3.11.12"
  }
 },
 "nbformat": 4,
 "nbformat_minor": 5
}
